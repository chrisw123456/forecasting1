{
 "cells": [
  {
   "cell_type": "code",
   "execution_count": 2,
   "metadata": {},
   "outputs": [
    {
     "name": "stdout",
     "output_type": "stream",
     "text": [
      "Defaulting to user installation because normal site-packages is not writeable\n",
      "Collecting pymssql\n",
      "  Downloading pymssql-2.2.1-cp36-cp36m-manylinux2014_x86_64.whl (2.6 MB)\n",
      "\u001b[K     |████████████████████████████████| 2.6 MB 1.6 MB/s eta 0:00:01\n",
      "\u001b[?25hInstalling collected packages: pymssql\n",
      "Successfully installed pymssql-2.2.1\n",
      "Note: you may need to restart the kernel to use updated packages.\n"
     ]
    }
   ],
   "source": [
    "#pip install pymssql"
   ]
  },
  {
   "cell_type": "code",
   "execution_count": 1,
   "metadata": {},
   "outputs": [],
   "source": [
    "import pymssql\n",
    "from sqlalchemy import create_engine\n",
    "from sqlalchemy.engine import Engine\n",
    "from pymssql import Connection\n",
    "import pandas as pd\n"
   ]
  },
  {
   "cell_type": "code",
   "execution_count": 2,
   "metadata": {},
   "outputs": [],
   "source": [
    "# sql server engine func\n",
    "def get_engine(username:str, password:str, server:str, database:str) -> Engine:\n",
    "    \"\"\" connects to MS SQL Server\n",
    "    Args:\n",
    "        username (str)\n",
    "        password (str)\n",
    "        server (str)\n",
    "        database (str)\n",
    "    Returns:\n",
    "        Engine\n",
    "    \"\"\"\n",
    "    conn_string = f\"mssql+pymssql://{username}:{password}@{server}/{database}\"\n",
    "    engine = create_engine(conn_string)\n",
    "    return engine\n",
    "\n",
    "# get connection\n",
    "def get_cnx(username:str, password:str, server:str, database:str) -> Connection:\n",
    "    \"\"\" enables querying MS SQL Server\n",
    "    Args:\n",
    "        username (str): [description]\n",
    "        password (str): [description]\n",
    "        server (str): [description]\n",
    "        database (str): [description]\n",
    "    Returns:\n",
    "        pymssql.Connection: [description]\n",
    "    \"\"\"\n",
    "    cnx = pymssql.connect(user=username, password=password,\n",
    "                          host=server, database=database)\n",
    "    return cnx\n",
    "\n",
    "# read table to pandas\n",
    "def read_sql_table(table_name:str, cnx:pymssql.Connection) -> pd.DataFrame:\n",
    "    \"\"\"reads sql table into pandas df\n",
    "    Args:\n",
    "        table_name (str): table name in SQL DB\n",
    "        cnx (pymssql.Connection): connection object used to read query\n",
    "    Returns:\n",
    "        pd.DataFrame: [description]\n",
    "    \"\"\"\n",
    "    sql_table = pd.read_sql(sql=f\"SELECT * FROM {table_name}\",\n",
    "                            con=cnx)\n",
    "\n",
    "    return sql_table\n",
    "\n",
    "# write df tp sql server\n",
    "def write_df_to_sql(\n",
    "        expID: str, new_df: pd.DataFrame, table_name: str, cnx: Connection, engine: Engine,\n",
    "        replace_exist_table=False):\n",
    "    \"\"\"[summary]\n",
    "    #columns_to_consider: List[str]\n",
    "    Args:\n",
    "        new_df (pd.DataFrame): name of df to be written to sql db\n",
    "        table_name (str): name of table to write to \n",
    "        cnx (Connection): used to read sql tables\n",
    "        engine (Engine): used to write to sql db \n",
    "        columns_to_consider (List[str]): columns to be examined when checking for duplicates\n",
    "        init (bool, optional): indicates if tables need \n",
    "        to be created for the first time. Defaults to False.\n",
    "    \"\"\"\n",
    "    # add expID\n",
    "    new_df.insert(0,'ExpID',str(expID))\n",
    "\n",
    "    # conert all columns to string\n",
    "    new_df=new_df.applymap(str)\n",
    "\n",
    "    # convert all columns named with (min) to _min\n",
    "    new_df.columns=[i.replace('(min)','_min') if '(min)' in i else i for i in new_df.columns]\n",
    "    \n",
    "    #write new_df to sql server\n",
    "    if replace_exist_table:\n",
    "        if_exists='replace'\n",
    "    \n",
    "    else:  \n",
    "        if_exists='append'\n",
    "\n",
    "    new_df.to_sql(name=table_name,con=engine, index=False, if_exists=if_exists)\n",
    "    \n"
   ]
  },
  {
   "cell_type": "code",
   "execution_count": 8,
   "metadata": {},
   "outputs": [],
   "source": [
    "engine = get_engine(\"transam1\",\"Pass@0@0!\",\"usodcvsql0255\", \"NAO_PMO_Analytics\")"
   ]
  },
  {
   "cell_type": "code",
   "execution_count": 7,
   "metadata": {},
   "outputs": [],
   "source": [
    "connection = get_cnx(\"transam1\",\"Pass@0@0!\",\"usodcvsql0255\", \"NAO_PMO_Analytics\")"
   ]
  },
  {
   "cell_type": "code",
   "execution_count": 11,
   "metadata": {},
   "outputs": [],
   "source": [
    "data = read_sql_table(\"zzz_Forecast_Input\",connection)"
   ]
  },
  {
   "cell_type": "code",
   "execution_count": 13,
   "metadata": {},
   "outputs": [],
   "source": [
    "data.to_csv(\"input.csv\")"
   ]
  },
  {
   "cell_type": "code",
   "execution_count": null,
   "metadata": {},
   "outputs": [],
   "source": [
    "write_df_to_sql"
   ]
  },
  {
   "cell_type": "code",
   "execution_count": null,
   "metadata": {},
   "outputs": [],
   "source": []
  },
  {
   "cell_type": "code",
   "execution_count": null,
   "metadata": {},
   "outputs": [],
   "source": []
  },
  {
   "cell_type": "code",
   "execution_count": null,
   "metadata": {},
   "outputs": [],
   "source": []
  },
  {
   "cell_type": "code",
   "execution_count": null,
   "metadata": {},
   "outputs": [],
   "source": []
  }
 ],
 "metadata": {
  "kernelspec": {
   "display_name": "Python 3.6 PySpark 2.4",
   "language": "python",
   "name": "pyspark3.6"
  },
  "language_info": {
   "codemirror_mode": {
    "name": "ipython",
    "version": 3
   },
   "file_extension": ".py",
   "mimetype": "text/x-python",
   "name": "python",
   "nbconvert_exporter": "python",
   "pygments_lexer": "ipython3",
   "version": "3.6.10"
  }
 },
 "nbformat": 4,
 "nbformat_minor": 2
}
